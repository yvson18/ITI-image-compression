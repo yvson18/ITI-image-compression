{
 "cells": [
  {
   "cell_type": "code",
   "execution_count": 31,
   "metadata": {},
   "outputs": [],
   "source": [
    "import pandas as pd"
   ]
  },
  {
   "cell_type": "code",
   "execution_count": 32,
   "metadata": {},
   "outputs": [],
   "source": [
    "jpeg_kodim24 = pd.read_csv('jpeg/kodim24.csv')\n",
    "bmshj2024_kodim24= pd.read_csv('bmshj2018-factorized-msssim/kodim24_bmshj2018-factorized-msssim.csv')"
   ]
  },
  {
   "cell_type": "code",
   "execution_count": 33,
   "metadata": {},
   "outputs": [
    {
     "data": {
      "text/html": [
       "<div>\n",
       "<style scoped>\n",
       "    .dataframe tbody tr th:only-of-type {\n",
       "        vertical-align: middle;\n",
       "    }\n",
       "\n",
       "    .dataframe tbody tr th {\n",
       "        vertical-align: top;\n",
       "    }\n",
       "\n",
       "    .dataframe thead th {\n",
       "        text-align: right;\n",
       "    }\n",
       "</style>\n",
       "<table border=\"1\" class=\"dataframe\">\n",
       "  <thead>\n",
       "    <tr style=\"text-align: right;\">\n",
       "      <th></th>\n",
       "      <th>quality</th>\n",
       "      <th>compressed_size</th>\n",
       "      <th>mse</th>\n",
       "      <th>ssim</th>\n",
       "    </tr>\n",
       "  </thead>\n",
       "  <tbody>\n",
       "    <tr>\n",
       "      <th>0</th>\n",
       "      <td>3</td>\n",
       "      <td>9.351562</td>\n",
       "      <td>510.224709</td>\n",
       "      <td>0.539948</td>\n",
       "    </tr>\n",
       "    <tr>\n",
       "      <th>1</th>\n",
       "      <td>12</td>\n",
       "      <td>20.574219</td>\n",
       "      <td>188.775447</td>\n",
       "      <td>0.762993</td>\n",
       "    </tr>\n",
       "    <tr>\n",
       "      <th>2</th>\n",
       "      <td>50</td>\n",
       "      <td>52.434570</td>\n",
       "      <td>65.321884</td>\n",
       "      <td>0.902713</td>\n",
       "    </tr>\n",
       "    <tr>\n",
       "      <th>3</th>\n",
       "      <td>84</td>\n",
       "      <td>102.398438</td>\n",
       "      <td>24.827882</td>\n",
       "      <td>0.955983</td>\n",
       "    </tr>\n",
       "  </tbody>\n",
       "</table>\n",
       "</div>"
      ],
      "text/plain": [
       "   quality  compressed_size         mse      ssim\n",
       "0        3         9.351562  510.224709  0.539948\n",
       "1       12        20.574219  188.775447  0.762993\n",
       "2       50        52.434570   65.321884  0.902713\n",
       "3       84       102.398438   24.827882  0.955983"
      ]
     },
     "execution_count": 33,
     "metadata": {},
     "output_type": "execute_result"
    }
   ],
   "source": [
    "jpeg_kodim24"
   ]
  },
  {
   "cell_type": "code",
   "execution_count": 34,
   "metadata": {},
   "outputs": [
    {
     "data": {
      "text/html": [
       "<div>\n",
       "<style scoped>\n",
       "    .dataframe tbody tr th:only-of-type {\n",
       "        vertical-align: middle;\n",
       "    }\n",
       "\n",
       "    .dataframe tbody tr th {\n",
       "        vertical-align: top;\n",
       "    }\n",
       "\n",
       "    .dataframe thead th {\n",
       "        text-align: right;\n",
       "    }\n",
       "</style>\n",
       "<table border=\"1\" class=\"dataframe\">\n",
       "  <thead>\n",
       "    <tr style=\"text-align: right;\">\n",
       "      <th></th>\n",
       "      <th>ssim</th>\n",
       "      <th>mse</th>\n",
       "      <th>compressed_size</th>\n",
       "    </tr>\n",
       "  </thead>\n",
       "  <tbody>\n",
       "    <tr>\n",
       "      <th>0</th>\n",
       "      <td>0.749039</td>\n",
       "      <td>272.140979</td>\n",
       "      <td>8.418945</td>\n",
       "    </tr>\n",
       "    <tr>\n",
       "      <th>1</th>\n",
       "      <td>0.875034</td>\n",
       "      <td>145.168568</td>\n",
       "      <td>23.611328</td>\n",
       "    </tr>\n",
       "    <tr>\n",
       "      <th>2</th>\n",
       "      <td>0.948351</td>\n",
       "      <td>60.951339</td>\n",
       "      <td>51.701172</td>\n",
       "    </tr>\n",
       "    <tr>\n",
       "      <th>3</th>\n",
       "      <td>0.982033</td>\n",
       "      <td>21.157031</td>\n",
       "      <td>104.058594</td>\n",
       "    </tr>\n",
       "  </tbody>\n",
       "</table>\n",
       "</div>"
      ],
      "text/plain": [
       "       ssim         mse  compressed_size\n",
       "0  0.749039  272.140979         8.418945\n",
       "1  0.875034  145.168568        23.611328\n",
       "2  0.948351   60.951339        51.701172\n",
       "3  0.982033   21.157031       104.058594"
      ]
     },
     "execution_count": 34,
     "metadata": {},
     "output_type": "execute_result"
    }
   ],
   "source": [
    "bmshj2024_kodim24"
   ]
  },
  {
   "cell_type": "code",
   "execution_count": 35,
   "metadata": {},
   "outputs": [
    {
     "data": {
      "image/png": "[encoded data removed]",
      "text/plain": [
       "<Figure size 640x480 with 1 Axes>"
      ]
     },
     "metadata": {},
     "output_type": "display_data"
    }
   ],
   "source": [
    "# plot the results. of jpeg and bmshj2024 for kodim24x is compressed_size and y é ssim\n",
    "import matplotlib.pyplot as plt\n",
    "\n",
    "plt.scatter(jpeg_kodim24['compressed_size'], jpeg_kodim24['ssim'], color='red')\n",
    "plt.scatter(bmshj2024_kodim24['compressed_size'], bmshj2024_kodim24['ssim'], color='blue')\n",
    "\n",
    "plt.xlabel('compressed size (kb)')\n",
    "plt.ylabel('ssim')\n",
    "plt.legend(['jpeg', 'bmshj2024'])\n",
    "plt.title('Comparação entre jpeg e bmshj2024 para kodim24')\n",
    "\n",
    "plt.show()"
   ]
  }
 ],
 "metadata": {
  "kernelspec": {
   "display_name": "venv",
   "language": "python",
   "name": "python3"
  },
  "language_info": {
   "codemirror_mode": {
    "name": "ipython",
    "version": 3
   },
   "file_extension": ".py",
   "mimetype": "text/x-python",
   "name": "python",
   "nbconvert_exporter": "python",
   "pygments_lexer": "ipython3",
   "version": "3.10.12"
  }
 },
 "nbformat": 4,
 "nbformat_minor": 2
}
